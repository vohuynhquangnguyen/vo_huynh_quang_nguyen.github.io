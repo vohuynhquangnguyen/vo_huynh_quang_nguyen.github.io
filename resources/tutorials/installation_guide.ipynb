{
 "cells": [
  {
   "attachments": {},
   "cell_type": "markdown",
   "metadata": {},
   "source": [
    "This is a guide to quickly install Python using Anaconda as well as setup TensorFlow for Machine Learning/Deep Learning projects. This guide is inspired by the [video lecture](https://www.youtube.com/watch?v=OEFKlRSd8Ic) provided by Dr. Jeff Heaton from Washington State University of St. Louis. As of Feb'23, this guide is still applicable.\n"
   ]
  },
  {
   "attachments": {},
   "cell_type": "markdown",
   "metadata": {},
   "source": [
    "# 1. Python Setup\n",
    "1. First, we must understand IDE. So, what is IDE? \n",
    "    * An **integrated development environment** (IDE) is software for building applications that combines common developer tools into a single graphical user interface (GUI). \n",
    "    * An IDE typically consists of:\n",
    "        - **Source code edito**r: A text editor that can assist in writing software code with features such as syntax highlighting with visual cues, providing language-specific auto-completion, and checking for bugs as code is being written.\n",
    "        - **Local build automation**: Utilities that automate simple, repeatable tasks as part of creating a local build of the software for use by the developer, like compiling computer source code into binary code, packaging binary code, and running automated tests.\n",
    "        - **Debugger**: A program for testing other programs that can graphically display the location of a bug in the original code.\n",
    "    * One of the most common IDE is Microsoft Visual Studio Code. It can be downloaded and installed [here](https://code.visualstudio.com/).\n",
    "<br></br>\n",
    "2. When searching for information on Python, you usually hear the following phrases: **Python implementation**, **Python distribution**, **Python dependencies** and **Python** itself. So exactly what are these?\n",
    "    * **Python itself**: when referring to Python itself, we only consider the set of rules that are defined in [Python.org](http://python.org/), i.e. the behaviours associated with Python.\n",
    "    * **Python implementation**: when referring to Python implementation, we are considering the actual program (e.g., [CPython](https://en.wikipedia.org/wiki/CPython#:~:text=CPython%20is%20the%20reference%20implementation,Guido%20van%20Rossum)) that provides such behaviours.\n",
    "    * **Python distribution**: when referring to Python distribution, we are considering (1) Python implementations and (2) accompanied tools and libraries.\n",
    "    * **Python dependencies**: when referring to Python dependencies, we are considering all necessary software components that are needed for our work.\n",
    "\n"
   ]
  },
  {
   "cell_type": "markdown",
   "metadata": {},
   "source": []
  }
 ],
 "metadata": {
  "language_info": {
   "name": "python"
  },
  "orig_nbformat": 4
 },
 "nbformat": 4,
 "nbformat_minor": 2
}
