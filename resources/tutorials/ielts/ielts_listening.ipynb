{
 "cells": [
  {
   "attachments": {},
   "cell_type": "markdown",
   "metadata": {},
   "source": [
    "This is a guide to help you quickly familiarize with the IELTS Academic Listening Test. This guid is inspired by the lecture notes I have accumulated during my own preparation for tests."
   ]
  },
  {
   "attachments": {},
   "cell_type": "markdown",
   "metadata": {},
   "source": [
    "# Overview of the IELTS Academic Listening Test\n",
    "_Disclaimer: this information is provided by IDP - one of the three co-owners of IELTS._\n",
    "\n",
    "The IELTS Academic Listening Test consists of four parts:\n",
    "    1. Recording 1 – a conversation between two people set in an everyday social context.\n",
    "    2. Recording 2 – a monologue set in an everyday social context, e.g. a speech about local facilities.\n",
    "    3. Recording 3 – a conversation between up to four people set in an educational or training context, e.g. a university tutor and a student discussing an assignment.\n",
    "    4. Recording 4 – a monologue on an academic subject, e.g. a university lecture."
   ]
  },
  {
   "attachments": {},
   "cell_type": "markdown",
   "metadata": {},
   "source": [
    "# Question Types in the IELTS Academic Listening Test\n",
    "_This note is based on the IELTS Preparation course provided by [IELTS Online by Macquaire University](https://ieltsonline.com/)._"
   ]
  },
  {
   "cell_type": "markdown",
   "metadata": {},
   "source": []
  }
 ],
 "metadata": {
  "kernelspec": {
   "display_name": "base",
   "language": "python",
   "name": "python3"
  },
  "language_info": {
   "name": "python",
   "version": "3.9.12 (main, Apr  4 2022, 05:22:27) [MSC v.1916 64 bit (AMD64)]"
  },
  "orig_nbformat": 4,
  "vscode": {
   "interpreter": {
    "hash": "ad2bdc8ecc057115af97d19610ffacc2b4e99fae6737bb82f5d7fb13d2f2c186"
   }
  }
 },
 "nbformat": 4,
 "nbformat_minor": 2
}
