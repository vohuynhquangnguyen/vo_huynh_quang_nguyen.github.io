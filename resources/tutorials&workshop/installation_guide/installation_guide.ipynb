{
 "cells": [
  {
   "attachments": {},
   "cell_type": "markdown",
   "metadata": {},
   "source": [
    "This is a guide to quickly install Python using Anaconda as well as setup TensorFlow for Machine Learning/Deep Learning projects. This guide is inspired by the [video lecture](https://www.youtube.com/watch?v=OEFKlRSd8Ic) provided by Dr. Jeff Heaton from Washington State University of St. Louis. As of Feb'23, this guide is still applicable.\n"
   ]
  },
  {
   "attachments": {},
   "cell_type": "markdown",
   "metadata": {},
   "source": [
    "# 1. Python Setup\n",
    "1. First, we must understand IDE. So, what is IDE? \n",
    "    * An **integrated development environment** (IDE) is software for building applications that combines common developer tools into a single graphical user interface (GUI). \n",
    "    * An IDE typically consists of:\n",
    "        - **Source code edito**r: A text editor that can assist in writing software code with features such as syntax highlighting with visual cues, providing language-specific auto-completion, and checking for bugs as code is being written.\n",
    "        - **Local build automation**: Utilities that automate simple, repeatable tasks as part of creating a local build of the software for use by the developer, like compiling computer source code into binary code, packaging binary code, and running automated tests.\n",
    "        - **Debugger**: A program for testing other programs that can graphically display the location of a bug in the original code.\n",
    "    * One of the most common IDE is Microsoft Visual Studio Code. It can be downloaded and installed [here](https://code.visualstudio.com/).\n",
    "<br></br>\n",
    "<img title = 'Example of an IDE (Microsoft Visual Studio Code). A typical IDE consists of three components: a code editor, a debugger, and a builder.' src = 'installation_guide_1.png'>\n",
    "\n",
    "<center>Figure 1: Example of an IDE (Microsoft Visual Studio Code). A typical IDE consists of three components: a code editor, a debugger, and a builder.</center>\n",
    "\n",
    "2. When searching for information on Python, you usually hear the following phrases: **Python implementation**, **Python distribution**, **Python dependencies** and **Python** itself. So exactly what are these?\n",
    "    * **Python itself**: when referring to Python itself, we only consider the set of rules that are defined in [Python.org](http://python.org/), i.e. the behaviours associated with Python.\n",
    "    * **Python implementation**: when referring to Python implementation, we are considering the actual program (e.g., [CPython](https://en.wikipedia.org/wiki/CPython#:~:text=CPython%20is%20the%20reference%20implementation,Guido%20van%20Rossum)) that provides such behaviours.\n",
    "    * **Python distribution**: when referring to Python distribution, we are considering (1) Python implementations and (2) accompanied tools and libraries.\n",
    "    * **Python dependencies**: when referring to Python dependencies, we are considering all necessary software components that are needed for our work.\n",
    "\n",
    "|                           | **Descriptions** | **Analogy** |\n",
    "|---------------------------|------------------|-------------|\n",
    "| **Python itself**         | Python behaviours/syntax/etc. | Grammatical rules of a language (e.g., English), or a description of what a machine (e.g., an oven) does |\n",
    "| **Python implementation** | The actual program that runs the language | People + media that uses such language (e.g., English), or an actual machine (e.g., an oven) |\n",
    "| **Python distribution**   | Python implementations + accompanied tools and libraries | A fully equipped kitchen (e.g., oven + cooking utensils) |\n",
    "| **Python dependencies**   | Necessary Python-based software components | Ingredients + a machine + tools to complete a task (e.g., cook food) |\n",
    "\n",
    "<center>Table 1: A summarized comparison between Python, Python implementation, Python distribution, and Python depencies.</center>\n",
    "\n",
    "3. Here, we only concern Python distribution. There are two primary Python distributions:\n",
    "    * Anaconda (a.k.a conda)\n",
    "    * Package Installer for Python (a.k.a pip)\n",
    "\n",
    "| conda | pip |\n",
    "|-------|-----|\n",
    "| Install packages (i.e. libraries) and software that are Python and other languages → no need to install the compiler (since it already comes with the distribution). | Install only packages (i.e. libraries) that are Python $\\rightarrow$ a compiler is needed to be installed first. |\n",
    "| Can create containers, i.e., isolated environments that can contain different versions of Python and/or installed packages. | |\n",
    "| When installing packages, a solver is run to ensure all requirements of all packages installed in an environment are met. | When installing packages, no effort is made to ensure that the dependencies of all packages are fulfilled simultaneously. |\n",
    "<center>Table 2: A summarized comparison between conda and pip</center>\n",
    "\n",
    "4. Here, we will use the Anaconda distribution to setup our Python and link Anaconda with Visual Studio Code.\n",
    "    * [Install Anaconda as normal.](https://www.anaconda.com/)\n",
    "    * Open `Edit the system environment variables`>`Environment variables`. On the System variables section, add the following paths\n",
    "\n",
    "        `C:\\\\ProgramData\\\\Anaconda3\\\\Scripts`\n",
    "        \n",
    "        `C:\\\\ProgramData\\\\Anaconda3\\\\Library\\\\bin`\n",
    "\n",
    "<img title = 'When installing Python using Anaconda, we need to opt for the option All Users to ensure every user that uses the computer will have the same distribution version.' src = 'installation_guide_2.png'>\n",
    "\n",
    "<center>Figure 2: When installing Python using Anaconda, we need to opt for the option `All Users` to ensure every user that uses the computer will have the same distribution version.</center>\n",
    "<br></br>\n",
    "<img title = 'Add these paths to the System Environment Variables' src = 'installation_guide_3.png'>\n",
    "\n",
    "<center>Figure 3: Add these paths to the `System Environment Variables`.</center>\n",
    "\n",
    "5. Open Windows Powershell Prompt (Run as Administrators), and use the command `Set-ExecutionPolicy RemoteSigned` to change the Powershell Execution Policy to Remote Signed.\n",
    "\n",
    "<img title = 'Change the ExecutionPolicy to RemoteSigned.' src = 'installation_guide_4.png'>\n",
    "\n",
    "<center>Figure 4: Change the `ExecutionPolicy` to `RemoteSigned`.</center>\n",
    "\n",
    "6. Open Anaconda Prompt (Run as Administrators) and run the command `conda init powershell` to add conda-related startup to a Powershell profile.\n",
    "\n",
    "<img title = 'Add conda-related startup to Windows Powershell.' src = 'installation_guide_5.png'>\n",
    "\n",
    "<center>Figure 5: Add conda-related startup to Windows Powershell.</center>\n",
    "\n",
    "7. To remove unused kernels in Anaconda.\n",
    "    * Go to Anaconda Prompt.\n",
    "    * Run `jupyter kernelspec list` to get the paths of all installed kernels.\n",
    "    * Uninstall unwanted kernel with the following command: `jupyter kernelspec uninstall <unwanted-kernel>`"
   ]
  },
  {
   "cell_type": "markdown",
   "metadata": {},
   "source": []
  }
 ],
 "metadata": {
  "kernelspec": {
   "display_name": "base",
   "language": "python",
   "name": "python3"
  },
  "language_info": {
   "name": "python",
   "version": "3.9.12"
  },
  "orig_nbformat": 4,
  "vscode": {
   "interpreter": {
    "hash": "ad2bdc8ecc057115af97d19610ffacc2b4e99fae6737bb82f5d7fb13d2f2c186"
   }
  }
 },
 "nbformat": 4,
 "nbformat_minor": 2
}
