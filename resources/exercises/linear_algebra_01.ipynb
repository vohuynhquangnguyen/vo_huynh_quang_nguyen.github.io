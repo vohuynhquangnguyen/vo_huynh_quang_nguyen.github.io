{
 "cells": [
  {
   "attachments": {},
   "cell_type": "markdown",
   "metadata": {},
   "source": [
    "# Linear Combination\n",
    "## Theoretical Backgrounds\n",
    "**Definition**: consider $\\mathbf{x}$ and $\\mathbf{y}$ that are two vectors belonged to the vector space $\\mathcal{V}$, we can express one vector belonged to $\\mathcal{V}$ as a _linear combination_ betwen $\\mathbf{x}$ and $\\mathbf{y}$.\n",
    "$$\n",
    "\\alpha\\mathbf{x} + \\beta\\mathbf{y} \\quad \\forall \\alpha,\\beta \\in \\mathbb{R}\n",
    "$$\n",
    "\n",
    "We call $\\alpha$ and $\\beta$ scalars. We can simply understand _linear combination_ as when we fix the value of one scalar (e.g., $\\alpha$) and vary the other scalar, the tip of the resulting vector draws a straight line (according to [3Blue1Brown](https://www.youtube.com/watch?v=k7RM-ot2NWY)). The concept of linear combination is also applicable for matrices as well.\n",
    "\n",
    "## Exercises\n",
    "1. Let $\\mathbf{A_1}$ and $\\mathbf{A_2}$ be 2x1 vectors, compute the value of this linear combination $3\\mathbf{A_1} - 2\\mathbf{A_2}$.\n",
    "$$\n",
    "\\mathbf{A_1} = \\begin{bmatrix} 2 \\\\ 1\\end{bmatrix} \\text{and }\n",
    "\\mathbf{A_2} = \\begin{bmatrix} 0 \\\\ 1\\end{bmatrix}\n",
    "$$\n",
    "2. Let $\\mathbf{A_1}$ and $\\mathbf{A_2}$ be 3x2 matrices, compute the value of this linear combination $\\alpha_1\\mathbf{A_1} + \\alpha_2\\mathbf{A_2}$ with $\\alpha_1 = \\frac{1}{2}$, $\\alpha_2 = 1$.\n",
    "$$\n",
    "\\mathbf{A_1} = \\begin{bmatrix} 0 & 2 \\\\ 2 & 0 \\\\ 4 & 4 \\end{bmatrix} \\text{and }\n",
    "\\mathbf{A_2} = \\begin{bmatrix} 1 & 1 \\\\ 1 & 0 \\\\ 5 & 0 \\end{bmatrix}\n",
    "$$\n",
    "\n",
    "## Solutions\n",
    "1. \n",
    "2. "
   ]
  },
  {
   "attachments": {},
   "cell_type": "markdown",
   "metadata": {},
   "source": [
    "***"
   ]
  },
  {
   "attachments": {},
   "cell_type": "markdown",
   "metadata": {},
   "source": [
    "# Linear Independence\n",
    "## Theoretical Backgrounds\n",
    "**Definition**: consider $\\mathbf{x}$ and $\\mathbf{y}$ that are two vectors belonged to the vector space $\\mathcal{V}$, we can say that these vectors are _linearly independent_ when none of them can be written as a linear combination of the others. In other words, the resulting vector is a zero vector.\n",
    "$$\n",
    "\\alpha\\mathbf{x} + \\beta\\mathbf{y} = \\mathbf{0} \\quad \\forall \\alpha,\\beta \\in \\mathbb{R}\n",
    "$$\n",
    "\n",
    "We can generalize for an $n$ number of vectors $\\mathbf{v_1}, \\mathbf{v_2}, ... , \\mathbf{v_n}$:\n",
    "$$\n",
    "\\alpha_1\\mathbf{v_1} + \\alpha_2\\mathbf{v_2} + .. + \\alpha_n\\mathbf{v_n}= \\mathbf{0} \\quad \\forall \\alpha,\\beta \\in \\mathbb{R}\n",
    "$$\n",
    "\n",
    "## Exercises\n",
    "1. Let $\\mathbf{A_1}$ and $\\mathbf{A_2}$ be 2x1 vectors, are these two vectors linearly independent.\n",
    "$$\n",
    "\\mathbf{A_1} = \\begin{bmatrix} 1 \\\\ 1\\end{bmatrix} \\text{and }\n",
    "\\mathbf{A_2} = \\begin{bmatrix} 2 \\\\ 1\\end{bmatrix}\n",
    "$$\n",
    "\n",
    "2. Let $\\mathbf{A_1}$, $\\mathbf{A_2}$, and $\\mathbf{A_3}$ be 3x1 vectors, are these three vectors linearly independent.\n",
    "$$\n",
    "\\mathbf{A_1} = \\begin{bmatrix} 1 \\\\ 2 \\\\ 3\\end{bmatrix} \\text{, }\n",
    "\\mathbf{A_2} = \\begin{bmatrix} 0 \\\\ 0 \\\\ 1\\end{bmatrix} \\text{and }\n",
    "\\mathbf{A_3} = \\begin{bmatrix} 0 \\\\ 0 \\\\ 2\\end{bmatrix}\n",
    "\n",
    "$$\n",
    "\n",
    "## Solutions\n",
    "1. \n",
    "2. "
   ]
  },
  {
   "attachments": {},
   "cell_type": "markdown",
   "metadata": {},
   "source": [
    "***"
   ]
  },
  {
   "attachments": {},
   "cell_type": "markdown",
   "metadata": {},
   "source": [
    "# Linear Independence\n",
    "## Theoretical Backgrounds\n",
    "**Definition**: consider $\\mathbf{x}$ and $\\mathbf{y}$ that are two vectors belonged to the vector space $\\mathcal{V}$, we can define a _linear span_ $\\mathcal{v}$ as a linear space belonged to $\\mathcal{V}$ formed by all the vectors that can be written as a linear combination of the vectors $\\mathbf{x}$ and $\\mathbf{y}$. \n",
    "$$\n",
    "\\alpha\\mathbf{x} + \\beta\\mathbf{y} \\quad \\forall \\alpha,\\beta \\in \\mathbb{R}\n",
    "$$\n",
    "Simply put, we find the linear span $\\mathcal{v}$ by varying both the scalars $\\alpha$ and $\\beta$ (according to [3Blue1Brown](https://www.youtube.com/watch?v=k7RM-ot2NWY)). We can generalize for an $n$ number of vectors $\\mathbf{v_1}, \\mathbf{v_2}, ... , \\mathbf{v_n}$."
   ]
  },
  {
   "attachments": {},
   "cell_type": "markdown",
   "metadata": {},
   "source": [
    "## Exercises\n",
    "1. Let $\\mathbf{x_1}$, $\\mathbf{x_2}$, and $\\mathbf{x_3}$ be 3x1 vectors. Does $\\mathbf{x_1}$ belong to the linear span of $\\mathbf{x_1}$ and $\\mathbf{x_2}$?\n",
    "$$\n",
    "\\mathbf{x_1} = \\begin{bmatrix} 1 \\\\ 1 \\\\ 1\\end{bmatrix} \\text{, }\n",
    "\\mathbf{x_2} = \\begin{bmatrix} 2 \\\\ 2 \\\\ 2\\end{bmatrix} \\text{and }\n",
    "\\mathbf{x_3} = \\begin{bmatrix} 0 \\\\ 0 \\\\ 1\\end{bmatrix}\n",
    "$$\n",
    "\n",
    "2. Does the zero vector belonged to the span of the vectors $\\mathbf{x_1}$ and $\\mathbf{x_2}$?\n",
    "\n",
    "## Solutions\n",
    "1. \n",
    "2. "
   ]
  },
  {
   "cell_type": "markdown",
   "metadata": {},
   "source": []
  }
 ],
 "metadata": {
  "kernelspec": {
   "display_name": "base",
   "language": "python",
   "name": "python3"
  },
  "language_info": {
   "name": "python",
   "version": "3.9.12 (main, Apr  4 2022, 05:22:27) [MSC v.1916 64 bit (AMD64)]"
  },
  "orig_nbformat": 4,
  "vscode": {
   "interpreter": {
    "hash": "ad2bdc8ecc057115af97d19610ffacc2b4e99fae6737bb82f5d7fb13d2f2c186"
   }
  }
 },
 "nbformat": 4,
 "nbformat_minor": 2
}
