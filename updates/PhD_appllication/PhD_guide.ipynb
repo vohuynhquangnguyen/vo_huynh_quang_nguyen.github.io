{
 "cells": [
  {
   "attachments": {},
   "cell_type": "markdown",
   "metadata": {},
   "source": [
    "This is a guide to help you prepare your profile and application for doctoral studies. The guide is written in two languages: Vietnamese (display first) and English."
   ]
  },
  {
   "attachments": {},
   "cell_type": "markdown",
   "metadata": {},
   "source": [
    "# Vietnamese version\n",
    "Chung quy lại thì bản thân mình thấy việc chuẩn bị một hồ sơ có sức hút lớn với Bộ Phận Giáo Vụ (n/v: Graduate College) của các trường gồm có 3 bước chính:\n",
    "1. Ôn tập thật kĩ lưỡng để đạt kết quả cao cho những kì thi bắt buộc khi làm hồ sơ đăng kí học (bao gồm GRE và IELTS).\n",
    "2. Chuẩn bị những lá thư giới thiệu (n/v: reference letter) 'cực chất' từ quản lý/giáo viên hướng dẫn hiện tại hoặc trước đây của bạn\n",
    "3. Học cách viết một bài luận đầy cuốn hút thể hiện ước muốn được vào ngôi trường bạn chọn (n/v: motivation letter) + viết 1 bài luận nhỏ (n/v: writing sample) thể hiện năng lực nghiên cứu của bản thân + viết một bản CV hoàn chỉnh.\n",
    "Ngoài ra, mình khuyến khích các bạn nên thêm 1 bước (cái này không bắt buộc): đó là thiết kế tài khoản Linkedin. Một tài khoản Linkedin ấn tượng sẽ giúp bạn dễ kiếm một vị trí theo như mong đợi dễ dàng hơn, nhất là khi bạn đã hoàn thành xong bậc học Ph.D. và có ý định làm ở doanh nghiệp.\n"
   ]
  },
  {
   "attachments": {},
   "cell_type": "markdown",
   "metadata": {},
   "source": [
    "# English version"
   ]
  },
  {
   "cell_type": "markdown",
   "metadata": {},
   "source": []
  }
 ],
 "metadata": {
  "language_info": {
   "name": "python"
  },
  "orig_nbformat": 4
 },
 "nbformat": 4,
 "nbformat_minor": 2
}
