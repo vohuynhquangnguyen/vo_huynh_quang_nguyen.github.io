{
 "cells": [
  {
   "attachments": {},
   "cell_type": "markdown",
   "metadata": {},
   "source": [
    "This is a guide to help you prepare your profile and application for doctoral studies. The guide is written in two languages: Vietnamese (display first) and English."
   ]
  },
  {
   "attachments": {},
   "cell_type": "markdown",
   "metadata": {},
   "source": [
    "# Vietnamese version\n",
    "\n",
    "Chung quy lại thì bản thân mình thấy việc chuẩn bị một hồ sơ có sức hút lớn với Bộ Phận Giáo Vụ (n/v: Graduate College) của các trường gồm có 3 bước chính:\n",
    "1. Ôn tập thật kĩ lưỡng để đạt kết quả cao cho những kì thi của các chứng chỉ bắt buộc khi làm hồ sơ đăng kí học (bao gồm GRE và IELTS).\n",
    "2. Chuẩn bị những lá thư giới thiệu (n/v: reference letter) 'cực chất' từ quản lý/giáo viên hướng dẫn hiện tại hoặc trước đây của bạn.\n",
    "3. Học cách viết một bài luận thể hiện nguyện vọng được vào ngôi trường bạn chọn (n/v: motivation letter) + viết 1 bài luận nhỏ (n/v: writing sample) thể hiện năng lực nghiên cứu của bản thân + viết một bản CV hoàn chỉnh.\n",
    "Ngoài ra, mình khuyến khích các bạn nên thêm 1 bước (cái này không bắt buộc): đó là thiết kế tài khoản Linkedin. Một tài khoản Linkedin ấn tượng sẽ giúp bạn dễ kiếm một vị trí theo như mong đợi dễ dàng hơn, nhất là khi bạn đã hoàn thành xong bậc học Ph.D. và có ý định làm ở doanh nghiệp.\n",
    "\n",
    "Sau đây mình sẽ chia sẻ chi tiết từng bước.\n",
    "\n",
    "## Bước 1: Ôn thi.\n",
    "Nếu bạn gửi email trực tiếp hỏi Bộ Phận Giáo Vụ của các trường mà bạn tính thi vào về thông tin điểm sàn của các kì thi của những chứng chỉ bắt buộc (như GMAT hoặc GRE), bạn sẽ nhận được 1 câu trả lời đại khái rằng \"[Trường chúng tôi] không có yêu cầu về mức điểm tối thiểu của kết quả thi GRE/GMAT bởi đây chỉ là một trong những điều kiện đủ để xét duyệt thôi.\" Với mình thì… mình thấy đây là một trong những câu nói hơi đúng nhưng chưa dủ. Vì sao lại như vậy? Lý do rất đơn giản là nằm ở tỉ lệ chọi: **để hồ sơ bạn có cơ hội được xét duyệt** thì **kết quả thi GRE/GMAT của các bạn phải ít nhất là ở mức 75% trở lên** - nghĩa là điểm của bạn cao hơn 75% số người tham dự kì thi trong vòng 5 năm trở lại đây, cộng với **điểm thi IELTS cũng phải tầm 7.0 trở lên**. Nếu không thì hồ sơ của bạn sẽ khó lọt vào 'mắt xanh' của Bộ Phận Giáo Vụ. Vậy, làm sao để có thể đạt được ở mức này? Sau đây là kinh nghiệm ôn thi của mình (điểm mình đạt được là 318 cho GRE, 700 cho GMAT, và 8.0 cho IELTS):\n",
    "1. **Đảm bảo rằng những kiến thức cơ bản về Tiếng Anh (như ngữ pháp chẳng hạn) của bạn đã thực sự vững**: các kì thi GMAT/GRE đòi hỏi bạn phải có vốn kiến thức về tiếng Anh vững và đủ để làm bài thi đạt được kết quả như mong muốn. Điều này cũng áp dụng luôn cho cả kì thi IELTS. Vì vậy, nếu bạn cảm thấy rằng những kiến thức cơ bản của bạn (chủ yếu là về ngữ pháp) chưa thực sự ổn vì bạn nên dành thời gian đầu tư trước khi bắt đầu ôn thi GMAT/GRE.\n",
    "2. **Ôn thi bằng cách học cùng với một giáo viên đáng đáng tin cậy, cộng với sử dụng tài liệu chính thức của tổ chức ra đề**: có giáo viên hướng dẫn giúp bạn phát hiện và sửa chữa kịp thời các lỗi mình hay mắc phải trong quá trình ôn thi, còn việc sử dụng tài liệu chính thức giúp bạn làm quen với cách mà họ (như ETS cho GRE, MBA cho GMAT, và IDP/British Council/Cambridge cho IELTS) ra đề để mình sử dụng chiến thuật làm bài hiệu quả. \n",
    "    * Khi ôn GRE/GMAT thì mình có tham gia vào một kênh tên là [r/GRE](https://www.reddit.com/r/GRE/) trên mạng xã hội Reddit để tìm xem những mẹo ôn thi hiệu quả. Nhờ có [r/GRE](https://www.reddit.com/r/GRE/) mà mình tìm được một trang web hướng dẫn cách ôn thi cho cả GRE và GMAT cực tốt mà giá rất hạt dẻ: [GregMat](https://www.gregmat.com/). Mình thấy GregMat có 2 điểm sáng sau đây: GregMat sử dụng tài liệu chính thức của ETS và MBA; GregMat có thiết kế cho những ai chuẩn bị một kế hoạch ôn tập (n/v: study plan) rất chi tiết. Đó là vì sao mà khi có ai hỏi nên chuẩn bị ôn tập để thi GRE thì bắt đầu như thế nào, mình đều dẫn họ tới GregMat.\n",
    "    * Về IELTS thì do đây là lần thứ hai của mình, mình chủ yếu là làm quen với cách thi IELTS trên máy tính (n/v: computer-delivered IELTS), và luyện đề trên [STUDY4](https://study4.com/) - trên STUDY4, mình chủ yếu làm đề Cambridge từ cuốn 10 tới 17. Ngoài ra mình có đăng kí [khóa Writing](https://study4.com/courses/23/ielts-writing-speaking-correction/) của STUDY4 để được nhận xét và chỉnh sửa cách làm phần Writing, đồng thời cũng tham khảo bộ [New Insight into IELTS](https://www.cambridge.org/gb/cambridgeenglish/catalog/cambridge-english-exams-ielts/new-insight-ielts) để ôn lại các kĩ năng cũng như chiến thuậ làm bài thi.\n",
    "3. **Dành một khoảng thời gian đủ lâu để ôn thi**: mình dành từ 6 tháng để ôn trước khi thi GRE, 2 tháng để ôn trước khi thi GMAT, và 3 tháng ôn cho IELTS. Mình thấy khi để một khoảng thời gian đủ lâu như trước khi chính thức thi sẽ đảm bảo  bản thân mình đủ tự tin trước khi thi, cũng như đã sử dụng hết và tối ưu nhất những tài liệu mà mình để dùng để ôn thi.\n",
    "4. **Mỗi ngày dành ít nhất 2-3 tiếng để ôn thi**: do mục tiêu mình đề ra là có điểm số ở mức cao, mỗi ngày mình đều sắp xếp dành từ 3 tiếng trở lên để ôn dù có bận như thế nào đi chăng nữa.\n",
    "\n",
    "## Bước 2: Chuẩn bị thư giới thiệu.\n",
    "Để có thư giới thiệu cực chất, **hãy chăm chỉ thể hiện khả năng bản thân ở nơi bạn đang làm việc hay trường bạn đang học**. Về phần mình, do bản thân mình đã xác định là sẽ học lên bậc Ph.D. nên trong thời gian mình còn làm tại Intel Corp (chi nhánh Việt Nam), mình luôn cố gắng tạo một ấn tượng tốt với sếp mình đồng thời mình cũng xin sếp cho phép mình tham dự những dự án của Intel ở chi nhánh khác (mình chủ yếu hỗ trợ cho Intel ở Ireland) và các hoạt động khác. Nhờ vậy mà khi mình gửi hồ sơ cho các trường khác, sếp của mình và đồng nghiệp mình ở Ireland rất sẵn lòng viết thư giới thiệu cho mình. Mặt khác, mình cũng duy trì mối quan hệ thân thiết với giáo viên hướng dẫn của mình nên được các thầy ưu ái viết cho thư giới thiệu luôn. \n",
    "\n",
    "## Bước 3: Viết luận.\n",
    "**Một lá thư bày tỏ nguyện vọng (n/v: statement of purpose hoặc còn gọi là motivation letter) có sức thuyết phục cao cũng như một bài luận thể hiện năng lực bản thân (n/v: writing sample) được viết một cách trau chuốt sẽ giúp cho hồ sơ của bạn nổi trội hơn rất nhiều.** Một bản CV chi tiết cũng là một điểm nhấn quan trọng không kém. Vậy làm sao để viết một motivation letter và writing sample, cũng như thiết kế CV sao cho xịn đây?\n",
    "1. Với statement of purpose, mình viết theo hướng kể về \"hành trình của một anh hùng\" (n/v: a hero's journey). Các bạn tham khảo [bài viết của Jordan](https://writeivy.com/structure-is-magic-a-guide-to-the-graduate-sop/) để hiểu hơn về hướng viết như thế này. Bản thân mình cũng tìm kiếm trên mạng thì thấy những bức thư statement of purpose hay đều có phong cách kể chuyện giông giống như vầy.\n",
    "2. Với writing sample, thông thường các ứng viên sẽ nộp bài luận Thạc Sĩ của họ. Riêng mình thì nộp một chương về đề tài Deep Learning mà mình là một trong những tác giả chính (n/v: corresponding authors) cho một nhà xuất bản có tiếng – NXB Springer Nature. Nếu như bạn có một bài báo khoa học trên một tạp chí uy tiến - chẳng hạn như các tạp chí Q1 và Q2, hãy nộp cái đó! Nếu bạn ko có thì hãy nộp bài luận của mình.\n",
    "3. Về phần CV, mình thấy rằng việc sử dụng LaTEX để viết CV là một cách tiếp cận hay. Các bạn có thể tham khảo các mẫu CV viết bằng LaTEX ở [đây](https://www.overleaf.com/gallery/tagged/cv)."
   ]
  },
  {
   "attachments": {},
   "cell_type": "markdown",
   "metadata": {},
   "source": [
    "# English version"
   ]
  },
  {
   "cell_type": "markdown",
   "metadata": {},
   "source": []
  }
 ],
 "metadata": {
  "language_info": {
   "name": "python"
  },
  "orig_nbformat": 4
 },
 "nbformat": 4,
 "nbformat_minor": 2
}
