{
 "cells": [
  {
   "attachments": {},
   "cell_type": "markdown",
   "metadata": {},
   "source": [
    "This is a guide to help you prepare your profile and application for doctoral studies. The guide is written in two languages: Vietnamese (display first) and English."
   ]
  },
  {
   "attachments": {},
   "cell_type": "markdown",
   "metadata": {},
   "source": [
    "# Vietnamese version\n",
    "\n",
    "Chung quy lại thì bản thân mình thấy việc chuẩn bị một hồ sơ có sức hút lớn với Bộ Phận Giáo Vụ (n/v: Graduate College) của các trường gồm có 3 bước chính:\n",
    "1. Ôn tập thật kĩ lưỡng để đạt kết quả cao cho những kì thi của các chứng chỉ bắt buộc khi làm hồ sơ đăng kí học (bao gồm GRE và IELTS).\n",
    "2. Chuẩn bị những lá thư giới thiệu (n/v: reference letter) 'cực chất' từ quản lý/giáo viên hướng dẫn hiện tại hoặc trước đây của bạn\n",
    "3. Học cách viết một bài luận đầy cuốn hút thể hiện ước muốn được vào ngôi trường bạn chọn (n/v: motivation letter) + viết 1 bài luận nhỏ (n/v: writing sample) thể hiện năng lực nghiên cứu của bản thân + viết một bản CV hoàn chỉnh.\n",
    "Ngoài ra, mình khuyến khích các bạn nên thêm 1 bước (cái này không bắt buộc): đó là thiết kế tài khoản Linkedin. Một tài khoản Linkedin ấn tượng sẽ giúp bạn dễ kiếm một vị trí theo như mong đợi dễ dàng hơn, nhất là khi bạn đã hoàn thành xong bậc học Ph.D. và có ý định làm ở doanh nghiệp.\n",
    "\n",
    "Sau đây mình sẽ chia sẻ chi tiết từng bước.\n",
    "\n",
    "## BƯỚC 1: ÔN THI.\n",
    "Nếu bạn gửi email trực tiếp hỏi Bộ Phận Giáo Vụ của các trường mà bạn tính thi vào về thông tin điểm sàn của các kì thi của những chứng chỉ bắt buộc (như GMAT hoặc GRE), bạn sẽ nhận được 1 câu trả lời đại khái rằng \"[Trường chúng tôi] không có yêu cầu về mức điểm tối thiểu của kết quả thi GRE/GMAT bởi đây chỉ là một trong những điều kiện đủ để xét duyệt thôi.\" Với mình thì… mình thấy đây là một trong những câu nói hơi đúng nhưng chưa dủ. Vì sao lại như vậy? Lý do rất đơn giản là nàm9 ở tỉ lệ chọi: để hồ sơ bạn có cơ hội được xét duyệt thì kết quả thi GRE/GMAT của các bạn phải ít nhất là ở mức 75-percentile trở lên - nghĩa là điểm của bạn cao hơn 75% số người tham dự kì thi trong vòng 5 năm trở lại đây, cộng với điểm thi IELTS cũng cỡ 7.0 trở lên. Nếu không thì hồ sơ của bạn sẽ khó lọt vào 'mắt xanh' của Bộ Phận Giáo Vụ. Vậy, làm sao để có thể đạt được ở mức này? Sau đây là kinh nghiệm ôn thi của mình (điểm mình đạt được là 318 cho GRE, 700 cho GMAT, và 8.0 cho IELTS):\n",
    "1. **Đảm bảo rằng những kiến thức cơ bản về Tiếng Anh (như ngữ pháp chẳng hạn) của bạn đã thực sự vững**: các kì thi GMAT/GRE đòi hỏi bạn phải có vốn kiến thức về tiếng Anh vững và đủ để làm bài thi đạt được kết quả như mong muốn.  "
   ]
  },
  {
   "attachments": {},
   "cell_type": "markdown",
   "metadata": {},
   "source": [
    "# English version"
   ]
  },
  {
   "cell_type": "markdown",
   "metadata": {},
   "source": []
  }
 ],
 "metadata": {
  "language_info": {
   "name": "python"
  },
  "orig_nbformat": 4
 },
 "nbformat": 4,
 "nbformat_minor": 2
}
